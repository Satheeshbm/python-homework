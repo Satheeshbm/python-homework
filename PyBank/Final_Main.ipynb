{
 "cells": [
  {
   "cell_type": "code",
   "execution_count": 169,
   "id": "06b96ab1-ac1d-4843-8a0f-168b43e1e5f8",
   "metadata": {},
   "outputs": [
    {
     "ename": "TypeError",
     "evalue": "'>' not supported between instances of 'int' and 'tuple'",
     "output_type": "error",
     "traceback": [
      "\u001b[0;31m---------------------------------------------------------------------------\u001b[0m",
      "\u001b[0;31mTypeError\u001b[0m                                 Traceback (most recent call last)",
      "\u001b[0;32m<ipython-input-169-52f7b65d75a9>\u001b[0m in \u001b[0;36m<module>\u001b[0;34m\u001b[0m\n\u001b[1;32m     30\u001b[0m             \u001b[0mMax_Diff\u001b[0m \u001b[0;34m=\u001b[0m \u001b[0mMthly_Diff\u001b[0m\u001b[0;34m\u001b[0m\u001b[0;34m\u001b[0m\u001b[0m\n\u001b[1;32m     31\u001b[0m             \u001b[0mMin_Diff\u001b[0m \u001b[0;34m=\u001b[0m \u001b[0;36m0\u001b[0m\u001b[0;34m\u001b[0m\u001b[0;34m\u001b[0m\u001b[0m\n\u001b[0;32m---> 32\u001b[0;31m         \u001b[0;32melif\u001b[0m \u001b[0mMthly_Diff\u001b[0m \u001b[0;34m>\u001b[0m \u001b[0mMax_Diff\u001b[0m \u001b[0;34m:\u001b[0m\u001b[0;34m\u001b[0m\u001b[0;34m\u001b[0m\u001b[0m\n\u001b[0m\u001b[1;32m     33\u001b[0m             \u001b[0mMax_Diff\u001b[0m \u001b[0;34m=\u001b[0m \u001b[0mMthly_Diff\u001b[0m\u001b[0;34m\u001b[0m\u001b[0;34m\u001b[0m\u001b[0m\n\u001b[1;32m     34\u001b[0m         \u001b[0;32melif\u001b[0m \u001b[0mMthly_Diff\u001b[0m \u001b[0;34m<\u001b[0m \u001b[0mMin_Diff\u001b[0m \u001b[0;34m:\u001b[0m\u001b[0;34m\u001b[0m\u001b[0;34m\u001b[0m\u001b[0m\n",
      "\u001b[0;31mTypeError\u001b[0m: '>' not supported between instances of 'int' and 'tuple'"
     ]
    }
   ],
   "source": [
    "from pathlib import Path\n",
    "import csv\n",
    "csvpath = Path('../budget_data.csv')\n",
    "records = []\n",
    "list2 = []\n",
    "prev_mth = 0\n",
    "with open(csvpath,'r') as csvfile :\n",
    "    csvreader = csv.reader(csvfile, delimiter=',')\n",
    "    csv_header = next(csvreader)\n",
    "    month_of_change = []\n",
    "    row_count = 0\n",
    "    total_pl = 0\n",
    "    total_diff = 0\n",
    "    #avg_diff = 0\n",
    "    for index, row in csvreader:\n",
    "        number = int(row)\n",
    "        p_l = number\n",
    "        row_count += 1\n",
    "        total_pl += p_l\n",
    "        Max_Diff = ()\n",
    "        Min_Diff = ()\n",
    "        if index == \"Jan-2010\":\n",
    "            Mthly_Diff = 0\n",
    "            prev_mth = p_l\n",
    "        else :\n",
    "            Mthly_Diff = p_l - prev_mth\n",
    "        #print(index)\n",
    "          \n",
    "        if index == \"Feb-2010\":\n",
    "            Max_Diff = Mthly_Diff\n",
    "            Min_Diff = 0\n",
    "        elif Mthly_Diff > Max_Diff :\n",
    "            Max_Diff = Mthly_Diff\n",
    "        elif Mthly_Diff < Min_Diff :\n",
    "            Min_Diff = Mthly_Diff\n",
    "        print(Max_Diff, Min_Diff)\n",
    "                \n",
    "                \n",
    "                \n"
   ]
  },
  {
   "cell_type": "code",
   "execution_count": null,
   "id": "84094cfe-1c5c-41ec-af1c-66da697bc057",
   "metadata": {},
   "outputs": [],
   "source": [
    "print(f\"The number of months : {row_count}\")     \n",
    "print(f\"The net total of profit and loss : {total_pl}\")\n",
    "print(f\"The average change in profit/losses : {avg_diff}\") \n",
    "      "
   ]
  },
  {
   "cell_type": "code",
   "execution_count": null,
   "id": "dc4d47be-7663-4ac4-955c-8a01d5aef99f",
   "metadata": {
    "tags": []
   },
   "outputs": [],
   "source": [
    "output_path = 'output.txt'\n",
    "\n",
    "# Open the output path as a file object\n",
    "with open(output_path, 'w') as file:\n",
    "    # Write daily_average to the output file, convert to string\n",
    "    file.write(f\"The number of months : {row_count}\") \n",
    "    file.write(f\"The net total of profit and loss : {total_pl}\")\n",
    "    file.write(f\"The average change in profit/losses : {avg_diff}\")"
   ]
  }
 ],
 "metadata": {
  "kernelspec": {
   "display_name": "Python 3",
   "language": "python",
   "name": "python3"
  },
  "language_info": {
   "codemirror_mode": {
    "name": "ipython",
    "version": 3
   },
   "file_extension": ".py",
   "mimetype": "text/x-python",
   "name": "python",
   "nbconvert_exporter": "python",
   "pygments_lexer": "ipython3",
   "version": "3.8.8"
  }
 },
 "nbformat": 4,
 "nbformat_minor": 5
}

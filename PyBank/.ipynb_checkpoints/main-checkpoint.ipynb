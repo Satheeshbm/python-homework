{
 "cells": [
  {
   "cell_type": "code",
   "execution_count": null,
   "id": "9ed868d3-72ac-42c1-a039-efd3ed542a3a",
   "metadata": {},
   "outputs": [],
   "source": [
    "from pathlib import Path\n",
    "import csv\n",
    "csvpath = Path('../budget_data.csv')"
   ]
  },
  {
   "cell_type": "code",
   "execution_count": null,
   "id": "74204568-9cc6-48fe-a740-3457aa5667a9",
   "metadata": {},
   "outputs": [],
   "source": [
    "row_count = 0\n",
    "p_l = 0\n",
    "count = 0\n",
    "minimum = 0\n",
    "maximum = 0\n",
    "total = 0\n",
    "profit = []\n",
    "loss = []\n",
    "\n",
    "\n",
    "with open(csvpath,'r') as csvfile :\n",
    "    csvreader = csv.reader(csvfile, delimiter=',')\n",
    "    csv_header = next(csvreader)\n",
    "    for row in csvreader:\n",
    "        date = (row[0])\n",
    "        number = int(row[1])\n",
    "        p_l += number\n",
    "        row_count += 1\n",
    "        \n",
    "        #for profits in number:\n",
    "        #total += profits\n",
    "        #count += 1\n",
    "        \n",
    "           # if minimum == 0:\n",
    "           #     minimum = number\n",
    "            #elif number < minimum:\n",
    "            #    minimum = number\n",
    "            #elif number > maximum:\n",
    "            #    maximum = number\n",
    "       # print(maximum)\n",
    "        \n",
    "        if p_l > 0 :\n",
    "            profit.append(p_l)\n",
    "        elif p_l < 0 :\n",
    "            loss.append(p_l)\n",
    "        p_l += number\n",
    "        \n",
    "        print(profit)"
   ]
  },
  {
   "cell_type": "code",
   "execution_count": null,
   "id": "c9df6a89-304f-4a24-a6fd-8a79e072e04f",
   "metadata": {},
   "outputs": [],
   "source": [
    "\n",
    "        \n",
    "        "
   ]
  },
  {
   "cell_type": "code",
   "execution_count": null,
   "id": "a941823d-7237-4009-823c-40e7a1f6c46d",
   "metadata": {},
   "outputs": [],
   "source": [
    "            \n",
    "        \n",
    "print(f\"The number of months : {row_count}\")        \n",
    "        \n",
    "print(f\"The net total of profit and loss : {p_l}\")\n",
    "\n",
    "print(\"-----------------------\")\n",
    "     \n",
    "        \n",
    "        "
   ]
  },
  {
   "cell_type": "code",
   "execution_count": null,
   "id": "55b5d6a5-f6ae-4fda-80ce-47f7a5ee4913",
   "metadata": {},
   "outputs": [],
   "source": []
  }
 ],
 "metadata": {
  "kernelspec": {
   "display_name": "Python 3",
   "language": "python",
   "name": "python3"
  },
  "language_info": {
   "codemirror_mode": {
    "name": "ipython",
    "version": 3
   },
   "file_extension": ".py",
   "mimetype": "text/x-python",
   "name": "python",
   "nbconvert_exporter": "python",
   "pygments_lexer": "ipython3",
   "version": "3.8.8"
  }
 },
 "nbformat": 4,
 "nbformat_minor": 5
}

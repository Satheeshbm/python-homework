{
 "cells": [
  {
   "cell_type": "code",
   "execution_count": 19,
   "id": "4bb516cd-a453-43fb-9870-a082776de642",
   "metadata": {},
   "outputs": [],
   "source": [
    "\n",
    "from pathlib import Path\n",
    "import csv\n",
    "csvpath = Path('../budget_data.csv')\n",
    "records = []\n",
    "list2 = []\n",
    "prev_mth = 0\n",
    "with open(csvpath,'r') as csvfile :\n",
    "    csvreader = csv.reader(csvfile, delimiter=',')\n",
    "    csv_header = next(csvreader)\n",
    "    month_of_change = []\n",
    "    row_count = 0\n",
    "    total_pl = 0\n",
    "    total_diff = 0\n",
    "    avg_diff = 0\n",
    "    for index, row in csvreader:\n",
    "        number = int(row)\n",
    "        p_l = number\n",
    "        row_count += 1\n",
    "        total_pl += p_l\n",
    "        Max_Diff = ()\n",
    "        Min_Diff = ()\n",
    "        if index == \"Jan-2010\":\n",
    "            Mthly_Diff = 0\n",
    "            prev_mth = p_l\n",
    "        else :\n",
    "            Mthly_Diff = p_l - prev_mth\n",
    "    total_diff += Mthly_Diff\n",
    "    avg_diff = round(total_diff/((row_count)-1),2)\n",
    "output_path = 'output.txt'\n",
    "\n",
    "# Open the output path as a file object\n",
    "with open(output_path, 'w') as file:\n",
    "    # Write to the output file, convert to string\n",
    "    file.write(f\"The number of months : {row_count}\\n\")\n",
    "    file.write(f\"The net total of profit and loss : {total_pl}\\n\")\n",
    "    file.write(f\"The average change in profit/losses : {avg_diff}\\n\")"
   ]
  }
 ],
 "metadata": {
  "kernelspec": {
   "display_name": "Python 3",
   "language": "python",
   "name": "python3"
  },
  "language_info": {
   "codemirror_mode": {
    "name": "ipython",
    "version": 3
   },
   "file_extension": ".py",
   "mimetype": "text/x-python",
   "name": "python",
   "nbconvert_exporter": "python",
   "pygments_lexer": "ipython3",
   "version": "3.8.8"
  }
 },
 "nbformat": 4,
 "nbformat_minor": 5
}

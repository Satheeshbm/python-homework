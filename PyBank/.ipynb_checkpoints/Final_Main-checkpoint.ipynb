{
 "cells": [
  {
   "cell_type": "code",
   "execution_count": 141,
   "id": "06b96ab1-ac1d-4843-8a0f-168b43e1e5f8",
   "metadata": {},
   "outputs": [
    {
     "ename": "TypeError",
     "evalue": "'>' not supported between instances of 'int' and 'list'",
     "output_type": "error",
     "traceback": [
      "\u001b[0;31m---------------------------------------------------------------------------\u001b[0m",
      "\u001b[0;31mTypeError\u001b[0m                                 Traceback (most recent call last)",
      "\u001b[0;32m<ipython-input-141-483a804499ef>\u001b[0m in \u001b[0;36m<module>\u001b[0;34m\u001b[0m\n\u001b[1;32m     31\u001b[0m             \u001b[0;32mif\u001b[0m \u001b[0mmin_inc\u001b[0m \u001b[0;34m==\u001b[0m \u001b[0;36m0\u001b[0m\u001b[0;34m:\u001b[0m\u001b[0;34m\u001b[0m\u001b[0;34m\u001b[0m\u001b[0m\n\u001b[1;32m     32\u001b[0m                 \u001b[0mmin_inc\u001b[0m \u001b[0;34m=\u001b[0m \u001b[0mMthly_Diff\u001b[0m\u001b[0;34m\u001b[0m\u001b[0;34m\u001b[0m\u001b[0m\n\u001b[0;32m---> 33\u001b[0;31m             \u001b[0;32melif\u001b[0m \u001b[0mMthly_Diff\u001b[0m \u001b[0;34m>\u001b[0m \u001b[0mmax_inc\u001b[0m\u001b[0;34m:\u001b[0m\u001b[0;34m\u001b[0m\u001b[0;34m\u001b[0m\u001b[0m\n\u001b[0m\u001b[1;32m     34\u001b[0m                 \u001b[0mmax_inc\u001b[0m \u001b[0;34m=\u001b[0m \u001b[0mMthly_Diff\u001b[0m\u001b[0;34m\u001b[0m\u001b[0;34m\u001b[0m\u001b[0m\n\u001b[1;32m     35\u001b[0m             \u001b[0;32melif\u001b[0m \u001b[0mMthly_Diff\u001b[0m \u001b[0;34m<\u001b[0m \u001b[0mmin_inc\u001b[0m\u001b[0;34m:\u001b[0m\u001b[0;34m\u001b[0m\u001b[0;34m\u001b[0m\u001b[0m\n",
      "\u001b[0;31mTypeError\u001b[0m: '>' not supported between instances of 'int' and 'list'"
     ]
    }
   ],
   "source": [
    "from pathlib import Path\n",
    "import csv\n",
    "csvpath = Path('../budget_data.csv')\n",
    "records = []\n",
    "list2 = []\n",
    "#p_l = 0\n",
    "prev_mth = 0\n",
    "with open(csvpath,'r') as csvfile :\n",
    "    csvreader = csv.reader(csvfile, delimiter=',')\n",
    "    csv_header = next(csvreader)\n",
    "    csv_header.append(\"Diff\")\n",
    "    records.append(csv_header)\n",
    "    row_count = 0\n",
    "    total_pl = 0\n",
    "    total_diff = 0\n",
    "    avg_diff = 0\n",
    "    max_inc = [\"\", 0]\n",
    "    min_inc = [\"\", -9999999]\n",
    "    for index, row in csvreader:\n",
    "        number = int(row)\n",
    "        p_l = number\n",
    "        row_count += 1\n",
    "        total_pl += p_l\n",
    "        Mthly_Diff_r = []\n",
    "        if index == \"Jan-2010\":\n",
    "            Mthly_Diff = 0\n",
    "            prev_mth = p_l\n",
    "        else :\n",
    "            Mthly_Diff = p_l - prev_mth\n",
    "        \n",
    "            "
   ]
  },
  {
   "cell_type": "code",
   "execution_count": null,
   "id": "7c90e218-87bc-4fb4-ac65-d91ea5a74c77",
   "metadata": {},
   "outputs": [],
   "source": [
    " \n",
    "    \n",
    "    list2.append(Mthly_Diff)\n",
    "    records.append(list2)\n",
    "\n",
    "output = Path(\"output.csv\")\n",
    "with open(output, 'w') as csvfile:\n",
    "    csvwriter = csv.writer(csvfile, delimiter=',')\n",
    "    for record in records:\n",
    "        csvwriter.writerow(record)\n",
    "    \n",
    "if min_inc == 0:\n",
    "                min_inc = Mthly_Diff\n",
    "            elif Mthly_Diff > max_inc:\n",
    "                max_inc = Mthly_Diff\n",
    "            elif Mthly_Diff < min_inc:\n",
    "                min_inc = Mthly_Diff\n",
    "            print(max_inc, min_inc)\n",
    "    \n",
    "        \n",
    "        \n",
    "        \n",
    "        #Mthly_Diff_r.append(Mthly_Diff)\n",
    "        #Mthly_Diff_r.append(date)\n",
    "        #print(Mthly_Diff_r)    \n",
    "#     total_diff += Mthly_Diff\n",
    "#     avg_diff = round((total_diff/(row_count-1)),2)\n",
    "    \n",
    "          \n",
    "        \n",
    "        \n",
    "#         Mthly_Diff_r.append(Mthly_Diff)\n",
    "#         #Mthly_Diff_r.append(date)\n",
    "#         #print(Mthly_Diff_r)    \n",
    "#     total_diff += Mthly_Diff\n",
    "#     avg_diff = round((total_diff/(row_count-1)),2)\n",
    "    \n",
    "#     if Min_Mthly_Diff == 0:\n",
    "#         Min_Mthly_Diff = Mthly_Diff_r\n",
    "#     elif Mthly_Diff_r > Max_Mthly_Diff:\n",
    "#         Max_Mthly_Diff = Mthly_Diff_r\n",
    "#     elif Mthly_Diff_r < Min_Mthly_Diff:\n",
    "#         Min_Mthly_Diff = Mthly_Diff_r\n",
    "#     print(Max_Mthly_Diff, Min_Mthly_Diff)\n",
    "    "
   ]
  },
  {
   "cell_type": "code",
   "execution_count": null,
   "id": "f81305ac-cd1a-4e5a-b933-cfd935ad32f9",
   "metadata": {},
   "outputs": [],
   "source": [
    "#for Diff in Mthly_Diff_r:\n",
    "#         Min_Mthly_Diff = 0\n",
    "#         Max_Mthly_Diff = 0\n",
    "#         if Min_Mthly_Diff == 0:\n",
    "#             Min_Mthly_Diff = Mthly_Diff_r\n",
    "#         elif Mthly_Diff_r > Max_Mthly_Diff:\n",
    "#             Max_Mthly_Diff = Mthly_Diff_r\n",
    "#         elif Mthly_Diff_r < Min_Mthly_Diff:\n",
    "#             Min_Mthly_Diff = Mthly_Diff_r\n",
    "#     print(Max_Mthly_Diff, Min_Mthly_Diff)\n",
    "    \n",
    "    \n",
    "    "
   ]
  },
  {
   "cell_type": "code",
   "execution_count": null,
   "id": "84094cfe-1c5c-41ec-af1c-66da697bc057",
   "metadata": {},
   "outputs": [],
   "source": [
    "print(f\"The number of months : {row_count}\")     \n",
    "print(f\"The net total of profit and loss : {total_pl}\")\n",
    "print(f\"The average change in profit/losses : {avg_diff}\") \n",
    "      "
   ]
  },
  {
   "cell_type": "code",
   "execution_count": null,
   "id": "dc4d47be-7663-4ac4-955c-8a01d5aef99f",
   "metadata": {
    "tags": []
   },
   "outputs": [],
   "source": [
    "    print(Mthly_Diff)"
   ]
  },
  {
   "cell_type": "code",
   "execution_count": null,
   "id": "4a8abeab-a9a4-4a0a-b8f0-3c8489713d97",
   "metadata": {
    "tags": []
   },
   "outputs": [],
   "source": [
    "        for Diff in Mthly_Diff_r:\n",
    "            Min_Mthly_Diff = 0\n",
    "            Max_Mthly_Diff = 0\n",
    "            if Min_Mthly_Diff == 0:\n",
    "                Min_Mthly_Diff = Mthly_Diff_r\n",
    "            elif Mthly_Diff_r > Max_Mthly_Diff:\n",
    "                Max_Mthly_Diff = Mthly_Diff_r\n",
    "            elif Mthly_Diff_r < Min_Mthly_Diff:\n",
    "                Min_Mthly_Diff = Mthly_Diff_r\n",
    "    \n",
    "    print(Max_Mthly_Diff, Min_Mthly_Diff)"
   ]
  },
  {
   "cell_type": "code",
   "execution_count": null,
   "id": "0d721745-eea5-4ef6-a564-05e65a531b49",
   "metadata": {},
   "outputs": [],
   "source": [
    "        row.append(Mthly_Diff)\n",
    "        records.append(row)\n",
    "\n",
    "output = Path(\"output.csv\")\n",
    "with open(output, 'w') as csvfile:\n",
    "    csvwriter = csv.writer(csvfile, delimiter=',')\n",
    "    for record in records:\n",
    "        csvwriter.writerow(record)\n",
    "    \n",
    "    "
   ]
  },
  {
   "cell_type": "code",
   "execution_count": null,
   "id": "65e1ba45-d50f-429f-b9e8-ec00f9e6b0a8",
   "metadata": {},
   "outputs": [],
   "source": [
    "    total_diff += Mthly_Diff\n",
    "    \n",
    "    avg_diff = total_diff/(row_count-1)\n",
    "        \n",
    "print(f\"The number of months : {row_count}\")     \n",
    "print(f\"The net total of profit and loss : {total_pl}\")\n",
    "print(f\"The average change in profit/losses : {round(avg_diff,2)}\"\")"
   ]
  },
  {
   "cell_type": "code",
   "execution_count": null,
   "id": "1b6074a0-7dbc-4d9e-81c4-74be94d5368c",
   "metadata": {},
   "outputs": [],
   "source": []
  }
 ],
 "metadata": {
  "kernelspec": {
   "display_name": "Python 3",
   "language": "python",
   "name": "python3"
  },
  "language_info": {
   "codemirror_mode": {
    "name": "ipython",
    "version": 3
   },
   "file_extension": ".py",
   "mimetype": "text/x-python",
   "name": "python",
   "nbconvert_exporter": "python",
   "pygments_lexer": "ipython3",
   "version": "3.8.8"
  }
 },
 "nbformat": 4,
 "nbformat_minor": 5
}

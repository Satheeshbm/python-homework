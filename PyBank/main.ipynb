{
 "cells": [
  {
   "cell_type": "code",
   "execution_count": null,
   "id": "9ed868d3-72ac-42c1-a039-efd3ed542a3a",
   "metadata": {},
   "outputs": [],
   "source": [
    "from pathlib import Path\n",
    "import csv\n",
    "csvpath = Path('../budget_data.csv')"
   ]
  },
  {
   "cell_type": "code",
   "execution_count": 472,
   "id": "907b7ef3-90d2-4099-9349-c4403218bebe",
   "metadata": {},
   "outputs": [],
   "source": [
    "records = []\n",
    "p_l = 0\n",
    "prev_mth = 0\n",
    "with open(csvpath,'r') as csvfile :\n",
    "    csvreader = csv.reader(csvfile, delimiter=',')\n",
    "    csv_header = next(csvreader)\n",
    "    csv_header.append(\"Diff\")\n",
    "    records.append(csv_header)\n",
    "    row_count = 0\n",
    "    \n",
    "    for row in csvreader:\n",
    "        date = row[0]\n",
    "        number = int(row[1])\n",
    "        p_l += number\n",
    "        row_count += 1\n",
    "        \n",
    "    #print(f\"The number of months : {row_count}\")     \n",
    "    \n",
    "    #print(f\"The net total of profit and loss : {p_l}\")\n",
    "\n",
    "    \n",
    "    for index,row in csvreader:\n",
    "        number = int(row[1])\n",
    "        p_l = number\n",
    "        prev_mth = p_l\n",
    "        \n",
    "        if index == \"Jan-2010\":\n",
    "            Mthly_Diff = 0\n",
    "        else :\n",
    "            Mthly_Diff = prev_mth - p_l\n",
    "        print(Mthly_Diff)\n",
    "    \n",
    "    #print(f\"The number of months : {row_count}\")     \n",
    "       \n",
    "    #print(f\"The net total of profit and loss : {p_l}\")\n",
    "\n",
    "\n",
    "\n",
    "   # row.append(int(Diff))\n",
    "   # records.append(row)\n",
    "\n",
    "#output = Path(\"output.csv\")\n",
    "#with open(output, 'w') as csvfile:\n",
    "  #  csvwriter = csv.writer(csvfile, delimiter=',')\n",
    "  #  for record in records:\n",
    "     #    csvwriter.writerow(record)\n",
    "        "
   ]
  },
  {
   "cell_type": "code",
   "execution_count": null,
   "id": "3f6ae7db-d23b-4153-adef-02005971851a",
   "metadata": {},
   "outputs": [],
   "source": [
    "        \n",
    "        row.append(Mthly_Diff)\n",
    "        records.append(row)\n",
    "\n",
    "output = Path(\"output.csv\")\n",
    "with open(output, 'w') as csvfile:\n",
    "        csvwriter = csv.writer(csvfile, delimiter=',')\n",
    "        for record in records:\n",
    "            csvwriter.writerow(record)\n",
    "\n",
    "\n",
    "        "
   ]
  },
  {
   "cell_type": "code",
   "execution_count": null,
   "id": "c7ebda0c-cbd1-4b90-a588-4c22d742402f",
   "metadata": {},
   "outputs": [],
   "source": [
    "        row.append(Mthly_diff)\n",
    "        records.append(row)\n",
    "\n",
    "        \n",
    "    \n",
    "        \n",
    "output = Path(\"output.csv\")\n",
    "with open(output, 'w') as csvfile:\n",
    "        csvwriter = csv.writer(csvfile, delimiter=',')\n",
    "        for record in records:\n",
    "            csvwriter.writerow(record)\n",
    "        \n",
    "        \n",
    "        #import numpy\n",
    "        #all_data = numpy.array(int[row[1]])\n",
    "        #Diff = all_data[0:] - all_data[:-1]\n",
    "        #print(Diff)\n",
    " "
   ]
  },
  {
   "cell_type": "code",
   "execution_count": null,
   "id": "a941823d-7237-4009-823c-40e7a1f6c46d",
   "metadata": {},
   "outputs": [],
   "source": [
    "            \n",
    "        \n",
    "print(f\"The number of months : {row_count}\")        \n",
    "        \n",
    "print(f\"The net total of profit and loss : {profit_losses}\")\n",
    "\n",
    "print(\"-----------------------\")\n",
    "     \n",
    "        \n",
    "        "
   ]
  },
  {
   "cell_type": "code",
   "execution_count": null,
   "id": "55b5d6a5-f6ae-4fda-80ce-47f7a5ee4913",
   "metadata": {},
   "outputs": [],
   "source": []
  }
 ],
 "metadata": {
  "kernelspec": {
   "display_name": "Python 3",
   "language": "python",
   "name": "python3"
  },
  "language_info": {
   "codemirror_mode": {
    "name": "ipython",
    "version": 3
   },
   "file_extension": ".py",
   "mimetype": "text/x-python",
   "name": "python",
   "nbconvert_exporter": "python",
   "pygments_lexer": "ipython3",
   "version": "3.8.8"
  }
 },
 "nbformat": 4,
 "nbformat_minor": 5
}

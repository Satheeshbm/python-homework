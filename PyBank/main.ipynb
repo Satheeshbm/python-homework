{
 "cells": [
  {
   "cell_type": "code",
   "execution_count": null,
   "id": "9ed868d3-72ac-42c1-a039-efd3ed542a3a",
   "metadata": {},
   "outputs": [],
   "source": [
    "from pathlib import Path\n",
    "import csv\n",
    "csvpath = Path('../budget_data.csv')"
   ]
  },
  {
   "cell_type": "code",
   "execution_count": null,
   "id": "a9b7a8c2-174a-4b2e-acf0-8e049cabc96a",
   "metadata": {},
   "outputs": [],
   "source": [
    "count = ()\n",
    "with open(csvpath,'r') as csvfile :\n",
    "    csvreader = csv.reader(csvfile, delimiter=',')\n",
    "    csv_header = next(csvreader)\n",
    "    for row in csvreader:\n",
    "        date = row[0]\n",
    "        p_l = int(row[1])\n",
    "        "
   ]
  },
  {
   "cell_type": "code",
   "execution_count": null,
   "id": "140a3d55-0ec6-480e-885f-1891da418f9f",
   "metadata": {},
   "outputs": [],
   "source": []
  }
 ],
 "metadata": {
  "kernelspec": {
   "display_name": "Python 3",
   "language": "python",
   "name": "python3"
  },
  "language_info": {
   "codemirror_mode": {
    "name": "ipython",
    "version": 3
   },
   "file_extension": ".py",
   "mimetype": "text/x-python",
   "name": "python",
   "nbconvert_exporter": "python",
   "pygments_lexer": "ipython3",
   "version": "3.8.8"
  }
 },
 "nbformat": 4,
 "nbformat_minor": 5
}
